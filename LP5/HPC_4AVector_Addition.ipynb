{
  "nbformat": 4,
  "nbformat_minor": 0,
  "metadata": {
    "colab": {
      "provenance": [],
      "gpuType": "T4"
    },
    "kernelspec": {
      "name": "python3",
      "display_name": "Python 3"
    },
    "language_info": {
      "name": "python"
    },
    "accelerator": "GPU",
    "gpuClass": "standard"
  },
  "cells": [
    {
      "cell_type": "code",
      "execution_count": 1,
      "metadata": {
        "colab": {
          "base_uri": "https://localhost:8080/"
        },
        "id": "dV-fL2prV7bq",
        "outputId": "bf94b5e3-eb5d-43aa-e271-271658296b45"
      },
      "outputs": [
        {
          "output_type": "stream",
          "name": "stdout",
          "text": [
            "nvcc: NVIDIA (R) Cuda compiler driver\n",
            "Copyright (c) 2005-2022 NVIDIA Corporation\n",
            "Built on Wed_Sep_21_10:33:58_PDT_2022\n",
            "Cuda compilation tools, release 11.8, V11.8.89\n",
            "Build cuda_11.8.r11.8/compiler.31833905_0\n"
          ]
        }
      ],
      "source": [
        "!nvcc --version"
      ]
    },
    {
      "cell_type": "code",
      "source": [
        "code = \"\"\"\n",
        "#include <stdio.h>\n",
        "#include <stdlib.h>\n",
        "#define N 1000000\n",
        "__global__ void add(int *a, int *b, int *c) {\n",
        "int tid = blockIdx.x * blockDim.x + threadIdx.x;\n",
        "if (tid < N) {\n",
        "c[tid] = a[tid] + b[tid];\n",
        "}\n",
        "}\n",
        "int main() {\n",
        "int *a, *b, *c;\n",
        "int *d_a, *d_b, *d_c;\n",
        "int size = N * sizeof(int);\n",
        "// Allocate memory on host\n",
        "a = (int*)malloc(size);\n",
        "b = (int*)malloc(size);\n",
        "c = (int*)malloc(size);\n",
        "// Initialize arrays\n",
        "for (int i = 0; i < N; i++) {\n",
        "a[i] = i;\n",
        "b[i] = i * 2;\n",
        "}\n",
        "// Allocate memory on device\n",
        "cudaMalloc(&d_a, size);\n",
        "cudaMalloc(&d_b, size);\n",
        "cudaMalloc(&d_c, size);\n",
        "// Copy data from host to device\n",
        "cudaMemcpy(d_a, a, size, cudaMemcpyHostToDevice);\n",
        "cudaMemcpy(d_b, b, size, cudaMemcpyHostToDevice);\n",
        "// Launch kernel with 1 million threads\n",
        "add<<<(N + 255) / 256, 256>>>(d_a, d_b, d_c);\n",
        "// Copy result from device to host\n",
        "cudaMemcpy(c, d_c, size, cudaMemcpyDeviceToHost);\n",
        "// Print first and last elements of result\n",
        "printf(\"c[0]=%d, c[%d] = %d\",c[0],N-1,c[N-1]);\n",
        "// Free memory\n",
        "free(a);\n",
        "free(b);\n",
        "free(c);\n",
        "cudaFree(d_a);\n",
        "cudaFree(d_b);\n",
        "cudaFree(d_c);\n",
        "return 0;\n",
        "}\n",
        "\"\"\"\n",
        "\n"
      ],
      "metadata": {
        "id": "pb-CQmo0egd1"
      },
      "execution_count": 2,
      "outputs": []
    },
    {
      "cell_type": "code",
      "source": [
        "text_file = open(\"assign4.cu\",\"w\")\n",
        "text_file.write(code)\n",
        "text_file.close()"
      ],
      "metadata": {
        "id": "Bei0o8NJfYIf"
      },
      "execution_count": 3,
      "outputs": []
    },
    {
      "cell_type": "code",
      "source": [
        "!nvcc assign4.cu"
      ],
      "metadata": {
        "id": "OtWIDHW8fb0m"
      },
      "execution_count": 4,
      "outputs": []
    },
    {
      "cell_type": "code",
      "source": [
        "!./a.out"
      ],
      "metadata": {
        "colab": {
          "base_uri": "https://localhost:8080/"
        },
        "id": "0RKMruxZfeaa",
        "outputId": "b2e49feb-2652-4eca-af60-cdc6d008446a"
      },
      "execution_count": 5,
      "outputs": [
        {
          "output_type": "stream",
          "name": "stdout",
          "text": [
            "c[0]=0, c[999999] = 2999997"
          ]
        }
      ]
    },
    {
      "cell_type": "code",
      "source": [
        "!nvprof ./a.out"
      ],
      "metadata": {
        "colab": {
          "base_uri": "https://localhost:8080/"
        },
        "id": "GUKA0IxKfg6D",
        "outputId": "831b42ae-d8ef-4a82-8196-a09a62524465"
      },
      "execution_count": 6,
      "outputs": [
        {
          "output_type": "stream",
          "name": "stdout",
          "text": [
            "==2542== NVPROF is profiling process 2542, command: ./a.out\n",
            "==2542== Profiling application: ./a.out\n",
            "c[0]=0, c[999999] = 2999997==2542== Profiling result:\n",
            "            Type  Time(%)      Time     Calls       Avg       Min       Max  Name\n",
            " GPU activities:   53.02%  1.7608ms         1  1.7608ms  1.7608ms  1.7608ms  [CUDA memcpy DtoH]\n",
            "                   45.56%  1.5131ms         2  756.54us  723.21us  789.87us  [CUDA memcpy HtoD]\n",
            "                    1.41%  46.943us         1  46.943us  46.943us  46.943us  add(int*, int*, int*)\n",
            "      API calls:   97.21%  242.46ms         3  80.821ms  101.42us  242.22ms  cudaMalloc\n",
            "                    2.09%  5.2132ms         3  1.7377ms  982.08us  3.2379ms  cudaMemcpy\n",
            "                    0.38%  939.56us         1  939.56us  939.56us  939.56us  cuDeviceGetPCIBusId\n",
            "                    0.23%  585.16us         3  195.05us  153.87us  219.07us  cudaFree\n",
            "                    0.06%  151.39us       101  1.4980us     180ns  61.488us  cuDeviceGetAttribute\n",
            "                    0.01%  34.637us         1  34.637us  34.637us  34.637us  cudaLaunchKernel\n",
            "                    0.01%  25.646us         1  25.646us  25.646us  25.646us  cuDeviceGetName\n",
            "                    0.00%  2.1810us         3     727ns     301ns  1.5370us  cuDeviceGetCount\n",
            "                    0.00%  1.1370us         2     568ns     277ns     860ns  cuDeviceGet\n",
            "                    0.00%     598ns         1     598ns     598ns     598ns  cuDeviceTotalMem\n",
            "                    0.00%     492ns         1     492ns     492ns     492ns  cuModuleGetLoadingMode\n",
            "                    0.00%     366ns         1     366ns     366ns     366ns  cuDeviceGetUuid\n"
          ]
        }
      ]
    }
  ]
}
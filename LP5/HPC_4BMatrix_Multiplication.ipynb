{
  "nbformat": 4,
  "nbformat_minor": 0,
  "metadata": {
    "colab": {
      "provenance": [],
      "gpuType": "T4"
    },
    "kernelspec": {
      "name": "python3",
      "display_name": "Python 3"
    },
    "language_info": {
      "name": "python"
    },
    "accelerator": "GPU",
    "gpuClass": "standard"
  },
  "cells": [
    {
      "cell_type": "code",
      "execution_count": 9,
      "metadata": {
        "colab": {
          "base_uri": "https://localhost:8080/"
        },
        "id": "LwrDFjvpg-hW",
        "outputId": "252fbabe-6987-45e4-d4aa-3baca0741f34"
      },
      "outputs": [
        {
          "output_type": "stream",
          "name": "stdout",
          "text": [
            "nvcc: NVIDIA (R) Cuda compiler driver\n",
            "Copyright (c) 2005-2022 NVIDIA Corporation\n",
            "Built on Wed_Sep_21_10:33:58_PDT_2022\n",
            "Cuda compilation tools, release 11.8, V11.8.89\n",
            "Build cuda_11.8.r11.8/compiler.31833905_0\n"
          ]
        }
      ],
      "source": [
        "!nvcc --version"
      ]
    },
    {
      "cell_type": "code",
      "source": [
        "!pip install git+https://github.com/andreinechaev/nvcc4jupyter.git"
      ],
      "metadata": {
        "colab": {
          "base_uri": "https://localhost:8080/"
        },
        "id": "o0y5vOXqhOA8",
        "outputId": "6d98a467-e157-4fd3-ec04-f6d3f1090d97"
      },
      "execution_count": 10,
      "outputs": [
        {
          "output_type": "stream",
          "name": "stdout",
          "text": [
            "Looking in indexes: https://pypi.org/simple, https://us-python.pkg.dev/colab-wheels/public/simple/\n",
            "Collecting git+https://github.com/andreinechaev/nvcc4jupyter.git\n",
            "  Cloning https://github.com/andreinechaev/nvcc4jupyter.git to /tmp/pip-req-build-udnsflqn\n",
            "  Running command git clone --filter=blob:none --quiet https://github.com/andreinechaev/nvcc4jupyter.git /tmp/pip-req-build-udnsflqn\n",
            "  Resolved https://github.com/andreinechaev/nvcc4jupyter.git to commit aac710a35f52bb78ab34d2e52517237941399eff\n",
            "  Preparing metadata (setup.py) ... \u001b[?25l\u001b[?25hdone\n"
          ]
        }
      ]
    },
    {
      "cell_type": "code",
      "source": [
        "%load_ext nvcc_plugin"
      ],
      "metadata": {
        "colab": {
          "base_uri": "https://localhost:8080/"
        },
        "id": "LJmQE6GcheQL",
        "outputId": "f791d05d-afde-4ca0-852e-d421d7e3174b"
      },
      "execution_count": 11,
      "outputs": [
        {
          "output_type": "stream",
          "name": "stdout",
          "text": [
            "The nvcc_plugin extension is already loaded. To reload it, use:\n",
            "  %reload_ext nvcc_plugin\n"
          ]
        }
      ]
    },
    {
      "cell_type": "code",
      "source": [
        "%%cu\n",
        "#include <stdio.h>\n",
        "#include <stdlib.h>\n",
        "\n",
        "#define N 5\n",
        "#define BLOCK_SIZE 16\n",
        "\n",
        "__global__ void matrixMul(int *a, int *b, int *c, int width) {\n",
        "    int row = blockIdx.y * blockDim.y + threadIdx.y;\n",
        "    int col = blockIdx.x * blockDim.x + threadIdx.x;\n",
        "    int sum = 0;\n",
        "    for (int i = 0; i < width; i++) {\n",
        "        sum += a[row * width + i] * b[i * width + col];\n",
        "    }\n",
        "    c[row * width + col] = sum;\n",
        "}\n",
        "\n",
        "int main() {\n",
        "    int *a, *b, *c;\n",
        "    int *d_a, *d_b, *d_c;\n",
        "    int size = N * N * sizeof(int);\n",
        "\n",
        "    // Allocate memory on host\n",
        "    a = (int*)malloc(size);\n",
        "    b = (int*)malloc(size);\n",
        "    c = (int*)malloc(size);\n",
        "\n",
        "    // Initialize matrices\n",
        "    for (int i = 0; i < N; i++) {\n",
        "        for (int j = 0; j < N; j++) {\n",
        "            a[i * N + j] = i + j;\n",
        "            b[i * N + j] = i - j;\n",
        "        }\n",
        "    }\n",
        "\n",
        "    // Allocate memory on device\n",
        "    cudaMalloc(&d_a, size);\n",
        "    cudaMalloc(&d_b, size);\n",
        "    cudaMalloc(&d_c, size);\n",
        "\n",
        "    // Copy data from host to device\n",
        "    cudaMemcpy(d_a, a, size, cudaMemcpyHostToDevice);\n",
        "    cudaMemcpy(d_b, b, size, cudaMemcpyHostToDevice);\n",
        "\n",
        "    // Launch kernel with 2D grid and 2D block\n",
        "    dim3 dimBlock(BLOCK_SIZE, BLOCK_SIZE);\n",
        "    dim3 dimGrid((N + dimBlock.x - 1) / dimBlock.x, (N + dimBlock.y - 1) / dimBlock.y);\n",
        "    matrixMul<<<dimGrid, dimBlock>>>(d_a, d_b, d_c, N);\n",
        "\n",
        "    // Copy result from device to host\n",
        "    cudaMemcpy(c, d_c, size, cudaMemcpyDeviceToHost);\n",
        "\n",
        "    // Print full array\n",
        "    for (int i = 0; i < N; i++) {\n",
        "            for (int j = 0; j < N; j++) {\n",
        "                printf(\"c[%d][%d] = %d\\n\", i, j, c[i * N + j]);\n",
        "            }\n",
        "        }\n",
        "    // Print first and last elements of result\n",
        "    printf(\"c[0][0] = %d, c[%d][%d] = %d\\n\", c[0], N-1, N-1, c[(N-1) * N + (N-1)]);\n",
        "\n",
        "    // Free memory\n",
        "    free(a);\n",
        "    free(b);\n",
        "    free(c);\n",
        "    cudaFree(d_a);\n",
        "    cudaFree(d_b);\n",
        "    cudaFree(d_c);\n",
        "\n",
        "    return 0;\n",
        "}"
      ],
      "metadata": {
        "colab": {
          "base_uri": "https://localhost:8080/"
        },
        "id": "h25hez0ahgsb",
        "outputId": "4855ccc4-c6cf-4dfb-895e-987f0f8d8ed3"
      },
      "execution_count": 12,
      "outputs": [
        {
          "output_type": "stream",
          "name": "stdout",
          "text": [
            "c[0][0] = 30\n",
            "c[0][1] = 20\n",
            "c[0][2] = 10\n",
            "c[0][3] = 0\n",
            "c[0][4] = -10\n",
            "c[1][0] = 20\n",
            "c[1][1] = 14\n",
            "c[1][2] = 8\n",
            "c[1][3] = 2\n",
            "c[1][4] = -4\n",
            "c[2][0] = 11\n",
            "c[2][1] = 8\n",
            "c[2][2] = 5\n",
            "c[2][3] = 2\n",
            "c[2][4] = -1\n",
            "c[3][0] = 4\n",
            "c[3][1] = 14\n",
            "c[3][2] = 8\n",
            "c[3][3] = 2\n",
            "c[3][4] = -4\n",
            "c[4][0] = 11\n",
            "c[4][1] = 40\n",
            "c[4][2] = 10\n",
            "c[4][3] = -20\n",
            "c[4][4] = -50\n",
            "c[0][0] = 30, c[4][4] = -50\n",
            "\n"
          ]
        }
      ]
    }
  ]
}